{
 "cells": [
  {
   "cell_type": "markdown",
   "metadata": {},
   "source": [
    "# Unit 5 - Financial Planning"
   ]
  },
  {
   "cell_type": "code",
   "execution_count": 1,
   "metadata": {},
   "outputs": [],
   "source": [
    "# Initial imports\n",
    "import os\n",
    "import requests\n",
    "import pandas as pd\n",
    "from dotenv import load_dotenv\n",
    "import alpaca_trade_api as tradeapi\n",
    "from MCForecastTools import MCSimulation\n",
    "import json\n",
    "\n",
    "%matplotlib inline"
   ]
  },
  {
   "cell_type": "code",
   "execution_count": 2,
   "metadata": {},
   "outputs": [
    {
     "data": {
      "text/plain": [
       "True"
      ]
     },
     "execution_count": 2,
     "metadata": {},
     "output_type": "execute_result"
    }
   ],
   "source": [
    "# Load .env enviroment variables\n",
    "load_dotenv()"
   ]
  },
  {
   "cell_type": "markdown",
   "metadata": {},
   "source": [
    "## Part 1 - Personal Finance Planner"
   ]
  },
  {
   "cell_type": "markdown",
   "metadata": {},
   "source": [
    "### Collect Crypto Prices Using the `requests` Library"
   ]
  },
  {
   "cell_type": "code",
   "execution_count": 3,
   "metadata": {},
   "outputs": [],
   "source": [
    "# Set current amount of crypto assets\n",
    "btc_qty = 1.2\n",
    "eth_qty = 5.3"
   ]
  },
  {
   "cell_type": "code",
   "execution_count": 4,
   "metadata": {},
   "outputs": [],
   "source": [
    "# Crypto API URLs\n",
    "btc_url = \"https://api.alternative.me/v2/ticker/Bitcoin/?convert=CAD\"\n",
    "eth_url = \"https://api.alternative.me/v2/ticker/Ethereum/?convert=CAD\""
   ]
  },
  {
   "cell_type": "code",
   "execution_count": 5,
   "metadata": {},
   "outputs": [],
   "source": [
    "# Fetch current BTC price\n",
    "btc_api = requests.get(btc_url).json()"
   ]
  },
  {
   "cell_type": "code",
   "execution_count": 6,
   "metadata": {},
   "outputs": [],
   "source": [
    "# check out the data formatting\n",
    "# print(json.dumps(btc_api, indent=4))"
   ]
  },
  {
   "cell_type": "code",
   "execution_count": 7,
   "metadata": {},
   "outputs": [],
   "source": [
    "btc_price = btc_api[\"data\"][\"1\"][\"quotes\"][\"USD\"][\"price\"]"
   ]
  },
  {
   "cell_type": "code",
   "execution_count": 8,
   "metadata": {},
   "outputs": [],
   "source": [
    "# Fetch current ETH price\n",
    "eth_api = requests.get(eth_url).json()"
   ]
  },
  {
   "cell_type": "code",
   "execution_count": 9,
   "metadata": {},
   "outputs": [],
   "source": [
    "# print(json.dumps(eth_api, indent=4))"
   ]
  },
  {
   "cell_type": "code",
   "execution_count": 10,
   "metadata": {},
   "outputs": [
    {
     "data": {
      "text/plain": [
       "2245.85"
      ]
     },
     "execution_count": 10,
     "metadata": {},
     "output_type": "execute_result"
    }
   ],
   "source": [
    "eth_price = eth_api[\"data\"][\"1027\"][\"quotes\"][\"USD\"][\"price\"]\n",
    "eth_price"
   ]
  },
  {
   "cell_type": "code",
   "execution_count": 11,
   "metadata": {},
   "outputs": [
    {
     "name": "stdout",
     "output_type": "stream",
     "text": [
      "The current value of your 1.20 BTC is $43,321.20 at a price of $36,101.00\n",
      "The current value of your 5.30 ETH is $11,903.00 at a price of $2,245.85\n",
      "The total value of your crypto investments is $55,224.20\n"
     ]
    }
   ],
   "source": [
    "# Compute current value of my crpto\n",
    "my_btc = btc_price * btc_qty\n",
    "my_eth = eth_price * eth_qty\n",
    "\n",
    "my_crypto = my_btc + my_eth\n",
    "\n",
    "# Print current crypto wallet balance\n",
    "print(f\"The current value of your {btc_qty:,.2f} BTC is ${my_btc:,.2f} at a price of ${btc_price:,.2f}\")\n",
    "print(f\"The current value of your {eth_qty:,.2f} ETH is ${my_eth:,.2f} at a price of ${eth_price:,.2f}\")\n",
    "print(f\"The total value of your crypto investments is ${my_crypto:,.2f}\")"
   ]
  },
  {
   "cell_type": "markdown",
   "metadata": {},
   "source": [
    "### Collect Investments Data Using Alpaca: `SPY` (stocks) and `AGG` (bonds)"
   ]
  },
  {
   "cell_type": "code",
   "execution_count": 12,
   "metadata": {},
   "outputs": [
    {
     "data": {
      "text/plain": [
       "{'Shares': [200, 50]}"
      ]
     },
     "execution_count": 12,
     "metadata": {},
     "output_type": "execute_result"
    }
   ],
   "source": [
    "# Set current amount of shares\n",
    "\n",
    "# my_agg = 200\n",
    "# my_spy = 50\n",
    "\n",
    "shares_data = {\"Shares\": [200, 50]}\n",
    "shares_data"
   ]
  },
  {
   "cell_type": "code",
   "execution_count": 13,
   "metadata": {},
   "outputs": [],
   "source": [
    "# Set Alpaca API key and secret\n",
    "alpaca_api_key = os.getenv(\"ALPACA_API_KEY\")\n",
    "alpaca_secret_key = os.getenv(\"ALPACA_SECRET_KEY\")"
   ]
  },
  {
   "cell_type": "code",
   "execution_count": 14,
   "metadata": {},
   "outputs": [
    {
     "name": "stdout",
     "output_type": "stream",
     "text": [
      "Alpaca Key type: PKDBWJDWXVIHAA9HLVAZ\n",
      "Alpaca Secret Key type: 1F6wxBaPCqcD0a5tX5GhTH2qIT5TF4ZW0w6jBQUT\n"
     ]
    }
   ],
   "source": [
    "print(f\"Alpaca Key type: {alpaca_api_key}\")\n",
    "print(f\"Alpaca Secret Key type: {alpaca_secret_key}\")"
   ]
  },
  {
   "cell_type": "code",
   "execution_count": 15,
   "metadata": {},
   "outputs": [
    {
     "name": "stdout",
     "output_type": "stream",
     "text": [
      "Alpaca Key type: <class 'str'>\n",
      "Alpaca Secret Key type: <class 'str'>\n"
     ]
    }
   ],
   "source": [
    "print(f\"Alpaca Key type: {type(alpaca_api_key)}\")\n",
    "print(f\"Alpaca Secret Key type: {type(alpaca_secret_key)}\")\n",
    "# print(f\"Quandl Key type: {type(quandl_api_key)}\")"
   ]
  },
  {
   "cell_type": "code",
   "execution_count": 16,
   "metadata": {},
   "outputs": [],
   "source": [
    "# Create the Alpaca API object\n",
    "alpaca = tradeapi.REST(\n",
    "    alpaca_api_key,\n",
    "    alpaca_secret_key,\n",
    "    api_version=\"v2\")"
   ]
  },
  {
   "cell_type": "code",
   "execution_count": 17,
   "metadata": {},
   "outputs": [],
   "source": [
    "from datetime import datetime"
   ]
  },
  {
   "cell_type": "code",
   "execution_count": 18,
   "metadata": {},
   "outputs": [],
   "source": [
    "# today_date = datetime.today().strftime('%Y-%m-%d')\n",
    "# today_date = '2021-06-18' removes hard coded date"
   ]
  },
  {
   "cell_type": "code",
   "execution_count": 19,
   "metadata": {},
   "outputs": [],
   "source": [
    "# Format current date as ISO format\n",
    "# today = pd.Timestamp(today_date, tz=\"America/New_York\").isoformat()\n",
    "# today = pd.Timestamp(today_date, tz=\"Australia/Melbourne\").isoformat()\n",
    "# today\n",
    "\n",
    "# Had to abandon the above script as it is the weekend\n",
    "# and today's date is a Saturday in the US and data would not load\n",
    "# Back to hard coding the date"
   ]
  },
  {
   "cell_type": "code",
   "execution_count": 20,
   "metadata": {},
   "outputs": [],
   "source": [
    "start_date = pd.Timestamp(\"2020-06-18\", tz=\"America/New_York\").isoformat()\n",
    "end_date = pd.Timestamp(\"2020-06-18\", tz=\"America/New_York\").isoformat()"
   ]
  },
  {
   "cell_type": "code",
   "execution_count": 21,
   "metadata": {},
   "outputs": [],
   "source": [
    "# Set the tickers\n",
    "tickers = [\"AGG\", \"SPY\"]\n",
    "\n",
    "# Set timeframe to '1D' for Alpaca API\n",
    "timeframe = \"1D\"\n",
    "\n",
    "# Get current closing prices for SPY and AGG  \n",
    "# portfolio_download = alpaca.get_barset(\n",
    "#    tickers,\n",
    "#    timeframe,\n",
    "#    start = today,\n",
    "#    end = today,\n",
    "#    limit = 50,\n",
    "#).df\n",
    "\n",
    "portfolio_download = alpaca.get_barset(\n",
    "    tickers,\n",
    "    timeframe,\n",
    "    start = start_date,\n",
    "    end = end_date,\n",
    "    limit = 1000,\n",
    ").df"
   ]
  },
  {
   "cell_type": "code",
   "execution_count": 22,
   "metadata": {},
   "outputs": [
    {
     "data": {
      "text/html": [
       "<div>\n",
       "<style scoped>\n",
       "    .dataframe tbody tr th:only-of-type {\n",
       "        vertical-align: middle;\n",
       "    }\n",
       "\n",
       "    .dataframe tbody tr th {\n",
       "        vertical-align: top;\n",
       "    }\n",
       "\n",
       "    .dataframe thead tr th {\n",
       "        text-align: left;\n",
       "    }\n",
       "\n",
       "    .dataframe thead tr:last-of-type th {\n",
       "        text-align: right;\n",
       "    }\n",
       "</style>\n",
       "<table border=\"1\" class=\"dataframe\">\n",
       "  <thead>\n",
       "    <tr>\n",
       "      <th></th>\n",
       "      <th colspan=\"5\" halign=\"left\">AGG</th>\n",
       "      <th colspan=\"5\" halign=\"left\">SPY</th>\n",
       "    </tr>\n",
       "    <tr>\n",
       "      <th></th>\n",
       "      <th>open</th>\n",
       "      <th>high</th>\n",
       "      <th>low</th>\n",
       "      <th>close</th>\n",
       "      <th>volume</th>\n",
       "      <th>open</th>\n",
       "      <th>high</th>\n",
       "      <th>low</th>\n",
       "      <th>close</th>\n",
       "      <th>volume</th>\n",
       "    </tr>\n",
       "    <tr>\n",
       "      <th>time</th>\n",
       "      <th></th>\n",
       "      <th></th>\n",
       "      <th></th>\n",
       "      <th></th>\n",
       "      <th></th>\n",
       "      <th></th>\n",
       "      <th></th>\n",
       "      <th></th>\n",
       "      <th></th>\n",
       "      <th></th>\n",
       "    </tr>\n",
       "  </thead>\n",
       "  <tbody>\n",
       "    <tr>\n",
       "      <th>2020-06-18 00:00:00-04:00</th>\n",
       "      <td>117.88</td>\n",
       "      <td>117.88</td>\n",
       "      <td>117.64</td>\n",
       "      <td>117.79</td>\n",
       "      <td>5689912</td>\n",
       "      <td>310.005</td>\n",
       "      <td>312.3</td>\n",
       "      <td>309.51</td>\n",
       "      <td>311.74</td>\n",
       "      <td>64298819</td>\n",
       "    </tr>\n",
       "  </tbody>\n",
       "</table>\n",
       "</div>"
      ],
      "text/plain": [
       "                              AGG                                       SPY  \\\n",
       "                             open    high     low   close   volume     open   \n",
       "time                                                                          \n",
       "2020-06-18 00:00:00-04:00  117.88  117.88  117.64  117.79  5689912  310.005   \n",
       "\n",
       "                                                            \n",
       "                            high     low   close    volume  \n",
       "time                                                        \n",
       "2020-06-18 00:00:00-04:00  312.3  309.51  311.74  64298819  "
      ]
     },
     "execution_count": 22,
     "metadata": {},
     "output_type": "execute_result"
    }
   ],
   "source": [
    "# Preview DataFrame\n",
    "# display(portfolio_download)\n",
    "portfolio_download.head()"
   ]
  },
  {
   "cell_type": "code",
   "execution_count": 23,
   "metadata": {},
   "outputs": [
    {
     "data": {
      "text/html": [
       "<div>\n",
       "<style scoped>\n",
       "    .dataframe tbody tr th:only-of-type {\n",
       "        vertical-align: middle;\n",
       "    }\n",
       "\n",
       "    .dataframe tbody tr th {\n",
       "        vertical-align: top;\n",
       "    }\n",
       "\n",
       "    .dataframe thead th {\n",
       "        text-align: right;\n",
       "    }\n",
       "</style>\n",
       "<table border=\"1\" class=\"dataframe\">\n",
       "  <thead>\n",
       "    <tr style=\"text-align: right;\">\n",
       "      <th></th>\n",
       "      <th>Shares</th>\n",
       "    </tr>\n",
       "  </thead>\n",
       "  <tbody>\n",
       "    <tr>\n",
       "      <th>AGG</th>\n",
       "      <td>200</td>\n",
       "    </tr>\n",
       "    <tr>\n",
       "      <th>SPY</th>\n",
       "      <td>50</td>\n",
       "    </tr>\n",
       "  </tbody>\n",
       "</table>\n",
       "</div>"
      ],
      "text/plain": [
       "     Shares\n",
       "AGG     200\n",
       "SPY      50"
      ]
     },
     "execution_count": 23,
     "metadata": {},
     "output_type": "execute_result"
    }
   ],
   "source": [
    "# Create the shares DataFrame with `tickers` as index\n",
    "df_shares = pd.DataFrame(shares_data, index=tickers)\n",
    "\n",
    "# Display shares data\n",
    "df_shares"
   ]
  },
  {
   "cell_type": "code",
   "execution_count": 24,
   "metadata": {},
   "outputs": [],
   "source": [
    "# Pick AGG and SPY close prices\n",
    "agg_close_price = float (portfolio_download[\"AGG\"][\"close\"][0])\n",
    "spy_close_price = float (portfolio_download[\"SPY\"][\"close\"][0])"
   ]
  },
  {
   "cell_type": "code",
   "execution_count": 25,
   "metadata": {},
   "outputs": [
    {
     "name": "stdout",
     "output_type": "stream",
     "text": [
      "Current AGG closing price: $117.79\n",
      "Current SPY closing price: $311.74\n"
     ]
    }
   ],
   "source": [
    "# Print AGG and SPY close prices\n",
    "print(f\"Current AGG closing price: ${agg_close_price}\")\n",
    "print(f\"Current SPY closing price: ${spy_close_price}\")"
   ]
  },
  {
   "cell_type": "code",
   "execution_count": 26,
   "metadata": {},
   "outputs": [
    {
     "data": {
      "text/html": [
       "<div>\n",
       "<style scoped>\n",
       "    .dataframe tbody tr th:only-of-type {\n",
       "        vertical-align: middle;\n",
       "    }\n",
       "\n",
       "    .dataframe tbody tr th {\n",
       "        vertical-align: top;\n",
       "    }\n",
       "\n",
       "    .dataframe thead th {\n",
       "        text-align: right;\n",
       "    }\n",
       "</style>\n",
       "<table border=\"1\" class=\"dataframe\">\n",
       "  <thead>\n",
       "    <tr style=\"text-align: right;\">\n",
       "      <th></th>\n",
       "      <th>Shares</th>\n",
       "      <th>Price</th>\n",
       "    </tr>\n",
       "  </thead>\n",
       "  <tbody>\n",
       "    <tr>\n",
       "      <th>AGG</th>\n",
       "      <td>200</td>\n",
       "      <td>117.79</td>\n",
       "    </tr>\n",
       "    <tr>\n",
       "      <th>SPY</th>\n",
       "      <td>50</td>\n",
       "      <td>311.74</td>\n",
       "    </tr>\n",
       "  </tbody>\n",
       "</table>\n",
       "</div>"
      ],
      "text/plain": [
       "     Shares   Price\n",
       "AGG     200  117.79\n",
       "SPY      50  311.74"
      ]
     },
     "execution_count": 26,
     "metadata": {},
     "output_type": "execute_result"
    }
   ],
   "source": [
    "df_shares[\"Price\"] = [agg_close_price, spy_close_price]\n",
    "df_shares"
   ]
  },
  {
   "cell_type": "code",
   "execution_count": 27,
   "metadata": {},
   "outputs": [],
   "source": [
    "# Compute the current value of shares\n",
    "agg_value = agg_close_price * df_shares.loc[\"AGG\"][\"Shares\"]\n",
    "spy_value = spy_close_price * df_shares.loc[\"SPY\"][\"Shares\"]\n",
    "\n",
    "my_shares = agg_value + spy_value"
   ]
  },
  {
   "cell_type": "code",
   "execution_count": 28,
   "metadata": {},
   "outputs": [],
   "source": [
    "agg_qty = (df_shares.loc[\"AGG\"][\"Shares\"])\n",
    "spy_qty = (df_shares.loc[\"SPY\"][\"Shares\"])"
   ]
  },
  {
   "cell_type": "code",
   "execution_count": 29,
   "metadata": {},
   "outputs": [
    {
     "name": "stdout",
     "output_type": "stream",
     "text": [
      "The current value of your 50.0 SPY shares is $15587.0\n",
      "The current value of your 200.0 AGG shares is $23,558.00\n",
      "The total value of your shares is $39,145.00\n"
     ]
    }
   ],
   "source": [
    "# Print current value of shares\n",
    "\n",
    "print(f\"The current value of your {spy_qty} SPY shares is ${spy_value}\")\n",
    "print(f\"The current value of your {agg_qty} AGG shares is ${agg_value:,.2f}\")\n",
    "print(f\"The total value of your shares is ${my_shares:,.2f}\")"
   ]
  },
  {
   "cell_type": "code",
   "execution_count": 30,
   "metadata": {},
   "outputs": [
    {
     "data": {
      "text/html": [
       "<div>\n",
       "<style scoped>\n",
       "    .dataframe tbody tr th:only-of-type {\n",
       "        vertical-align: middle;\n",
       "    }\n",
       "\n",
       "    .dataframe tbody tr th {\n",
       "        vertical-align: top;\n",
       "    }\n",
       "\n",
       "    .dataframe thead th {\n",
       "        text-align: right;\n",
       "    }\n",
       "</style>\n",
       "<table border=\"1\" class=\"dataframe\">\n",
       "  <thead>\n",
       "    <tr style=\"text-align: right;\">\n",
       "      <th></th>\n",
       "      <th>Shares</th>\n",
       "      <th>Price</th>\n",
       "      <th>Value</th>\n",
       "    </tr>\n",
       "  </thead>\n",
       "  <tbody>\n",
       "    <tr>\n",
       "      <th>AGG</th>\n",
       "      <td>200</td>\n",
       "      <td>117.79</td>\n",
       "      <td>23558.0</td>\n",
       "    </tr>\n",
       "    <tr>\n",
       "      <th>SPY</th>\n",
       "      <td>50</td>\n",
       "      <td>311.74</td>\n",
       "      <td>15587.0</td>\n",
       "    </tr>\n",
       "  </tbody>\n",
       "</table>\n",
       "</div>"
      ],
      "text/plain": [
       "     Shares   Price    Value\n",
       "AGG     200  117.79  23558.0\n",
       "SPY      50  311.74  15587.0"
      ]
     },
     "execution_count": 30,
     "metadata": {},
     "output_type": "execute_result"
    }
   ],
   "source": [
    "# Add column `value` to `df_shares` to show current values of stocks\n",
    "df_shares['Value']=[agg_value, spy_value]\n",
    "df_shares"
   ]
  },
  {
   "cell_type": "markdown",
   "metadata": {},
   "source": [
    "### Savings Health Analysis"
   ]
  },
  {
   "cell_type": "code",
   "execution_count": 31,
   "metadata": {},
   "outputs": [],
   "source": [
    "# Set monthly household income\n",
    "monthly_income = 12000"
   ]
  },
  {
   "cell_type": "code",
   "execution_count": 32,
   "metadata": {},
   "outputs": [
    {
     "data": {
      "text/plain": [
       "55224.204999999994"
      ]
     },
     "execution_count": 32,
     "metadata": {},
     "output_type": "execute_result"
    }
   ],
   "source": [
    "# Consolidate financial assets data\n",
    "my_crypto"
   ]
  },
  {
   "cell_type": "code",
   "execution_count": 33,
   "metadata": {},
   "outputs": [
    {
     "data": {
      "text/plain": [
       "39145.0"
      ]
     },
     "execution_count": 33,
     "metadata": {},
     "output_type": "execute_result"
    }
   ],
   "source": [
    "my_shares"
   ]
  },
  {
   "cell_type": "code",
   "execution_count": 34,
   "metadata": {},
   "outputs": [
    {
     "data": {
      "text/plain": [
       "94369.20499999999"
      ]
     },
     "execution_count": 34,
     "metadata": {},
     "output_type": "execute_result"
    }
   ],
   "source": [
    "total_savings = my_shares + my_crypto\n",
    "total_savings"
   ]
  },
  {
   "cell_type": "code",
   "execution_count": 35,
   "metadata": {},
   "outputs": [
    {
     "data": {
      "text/html": [
       "<div>\n",
       "<style scoped>\n",
       "    .dataframe tbody tr th:only-of-type {\n",
       "        vertical-align: middle;\n",
       "    }\n",
       "\n",
       "    .dataframe tbody tr th {\n",
       "        vertical-align: top;\n",
       "    }\n",
       "\n",
       "    .dataframe thead th {\n",
       "        text-align: right;\n",
       "    }\n",
       "</style>\n",
       "<table border=\"1\" class=\"dataframe\">\n",
       "  <thead>\n",
       "    <tr style=\"text-align: right;\">\n",
       "      <th></th>\n",
       "      <th>Value</th>\n",
       "    </tr>\n",
       "  </thead>\n",
       "  <tbody>\n",
       "    <tr>\n",
       "      <th>crypto</th>\n",
       "      <td>39145.000</td>\n",
       "    </tr>\n",
       "    <tr>\n",
       "      <th>shares</th>\n",
       "      <td>55224.205</td>\n",
       "    </tr>\n",
       "  </tbody>\n",
       "</table>\n",
       "</div>"
      ],
      "text/plain": [
       "            Value\n",
       "crypto  39145.000\n",
       "shares  55224.205"
      ]
     },
     "metadata": {},
     "output_type": "display_data"
    }
   ],
   "source": [
    "# Create savings DataFrame\n",
    "df_total_savings = [my_shares, my_crypto]\n",
    "df_total_savings = pd.DataFrame(df_total_savings, columns = ['Value'], index = ['crypto','shares'])\n",
    "# So unfair, took me 10 minutes to work out dataframe <> DateFrame == Saturday Night = Glass of Red Wine\n",
    "\n",
    "# Display savings DataFrame\n",
    "display(df_total_savings)"
   ]
  },
  {
   "cell_type": "code",
   "execution_count": 36,
   "metadata": {},
   "outputs": [
    {
     "data": {
      "text/plain": [
       "<AxesSubplot:title={'center':'My Savings Mix'}, ylabel='Value'>"
      ]
     },
     "execution_count": 36,
     "metadata": {},
     "output_type": "execute_result"
    },
    {
     "data": {
      "image/png": "[encoded data removed]",
      "text/plain": [
       "<Figure size 432x288 with 1 Axes>"
      ]
     },
     "metadata": {},
     "output_type": "display_data"
    }
   ],
   "source": [
    "# Plot savings pie chart\n",
    "df_total_savings.plot.pie(y=\"Value\", title = \"My Savings Mix\")"
   ]
  },
  {
   "cell_type": "code",
   "execution_count": 37,
   "metadata": {},
   "outputs": [
    {
     "data": {
      "text/plain": [
       "<AxesSubplot:title={'center':'Mix of Stocks in Portfolio'}, ylabel='Value'>"
      ]
     },
     "execution_count": 37,
     "metadata": {},
     "output_type": "execute_result"
    },
    {
     "data": {
      "image/png": "[encoded data removed]",
      "text/plain": [
       "<Figure size 432x288 with 1 Axes>"
      ]
     },
     "metadata": {},
     "output_type": "display_data"
    }
   ],
   "source": [
    "# Create a pie chart to show the proportion of stocks in the portfolio\n",
    "df_shares.plot.pie(y=\"Value\", title = \"Mix of Stocks in Portfolio\")"
   ]
  },
  {
   "cell_type": "code",
   "execution_count": 38,
   "metadata": {},
   "outputs": [
    {
     "data": {
      "text/plain": [
       "36000"
      ]
     },
     "execution_count": 38,
     "metadata": {},
     "output_type": "execute_result"
    }
   ],
   "source": [
    "# Set ideal emergency fund\n",
    "emergency_fund = monthly_income * 3\n",
    "emergency_fund"
   ]
  },
  {
   "cell_type": "code",
   "execution_count": 39,
   "metadata": {},
   "outputs": [
    {
     "data": {
      "text/plain": [
       "94369.20499999999"
      ]
     },
     "execution_count": 39,
     "metadata": {},
     "output_type": "execute_result"
    }
   ],
   "source": [
    "# Calculate total amount of savings\n",
    "total_savings"
   ]
  },
  {
   "cell_type": "code",
   "execution_count": 40,
   "metadata": {},
   "outputs": [
    {
     "data": {
      "text/plain": [
       "58369.20499999999"
      ]
     },
     "execution_count": 40,
     "metadata": {},
     "output_type": "execute_result"
    }
   ],
   "source": [
    "# Validate saving health\n",
    "\n",
    "savings_are_good = total_savings - emergency_fund\n",
    "savings_are_good"
   ]
  },
  {
   "cell_type": "code",
   "execution_count": 41,
   "metadata": {},
   "outputs": [
    {
     "data": {
      "text/plain": [
       "-58369.20499999999"
      ]
     },
     "execution_count": 41,
     "metadata": {},
     "output_type": "execute_result"
    }
   ],
   "source": [
    "savings_are_poor = emergency_fund - total_savings\n",
    "savings_are_poor"
   ]
  },
  {
   "cell_type": "code",
   "execution_count": 42,
   "metadata": {},
   "outputs": [
    {
     "name": "stdout",
     "output_type": "stream",
     "text": [
      "BOOOOM! You are $58,369.20 over your emergency fund target, don't let it wither!\n"
     ]
    }
   ],
   "source": [
    "#for result in total_savings:\n",
    "if total_savings > emergency_fund:\n",
    "    print(f\"BOOOOM! You are ${savings_are_good:,.2f} over your emergency fund target, don't let it wither!\")\n",
    "elif total_savings < emergency_fund:\n",
    "    print(f\"Oh no! Save some more! You are {savings_are_poor:,.2f} short!\")\n",
    "elif total_savings == emergency_fund:\n",
    "    print(\"Congratulations! Savings are spot on! You really know how to budget!\")\n",
    "    \n",
    "# Went back to Week 2 Lesson 2 iterate lists for help"
   ]
  },
  {
   "cell_type": "markdown",
   "metadata": {},
   "source": [
    "## Part 2 - Retirement Planning\n",
    "\n",
    "### Monte Carlo Simulation"
   ]
  },
  {
   "cell_type": "code",
   "execution_count": 43,
   "metadata": {},
   "outputs": [
    {
     "name": "stdout",
     "output_type": "stream",
     "text": [
      "2016-06-18T00:00:00-04:00\n",
      "2021-06-18T00:00:00-04:00\n"
     ]
    }
   ],
   "source": [
    "# Set start and end dates of five years back from today.\n",
    "# Sample results may vary from the solution based on the time frame chosen\n",
    "\n",
    "#https://www.saltycrane.com/blog/2010/10/how-get-date-n-days-ago-python/\n",
    "\n",
    "# from datetime import datetime, timedelta\n",
    "# N = 365 * 5\n",
    "# start_date = datetime.now() - timedelta(days=N)\n",
    "# end_date = datetime.now()\n",
    "\n",
    "# start_date = pd.Timestamp('2016-06-18', tz='Australia/Melbourne').isoformat()\n",
    "# end_date = pd.Timestamp('2021-06-18', tz='Australia/Melbourne').isoformat()\n",
    "\n",
    "start_date = pd.Timestamp('2016-06-18', tz='America/New_York').isoformat()\n",
    "end_date = pd.Timestamp('2021-06-18', tz='America/New_York').isoformat()\n",
    "\n",
    "print(start_date)\n",
    "print(end_date)"
   ]
  },
  {
   "cell_type": "code",
   "execution_count": 44,
   "metadata": {},
   "outputs": [
    {
     "name": "stdout",
     "output_type": "stream",
     "text": [
      "1825\n"
     ]
    }
   ],
   "source": [
    "# Number of days in 5 years\n",
    "print(365 * 5)"
   ]
  },
  {
   "cell_type": "code",
   "execution_count": 45,
   "metadata": {},
   "outputs": [
    {
     "data": {
      "text/html": [
       "<div>\n",
       "<style scoped>\n",
       "    .dataframe tbody tr th:only-of-type {\n",
       "        vertical-align: middle;\n",
       "    }\n",
       "\n",
       "    .dataframe tbody tr th {\n",
       "        vertical-align: top;\n",
       "    }\n",
       "\n",
       "    .dataframe thead tr th {\n",
       "        text-align: left;\n",
       "    }\n",
       "\n",
       "    .dataframe thead tr:last-of-type th {\n",
       "        text-align: right;\n",
       "    }\n",
       "</style>\n",
       "<table border=\"1\" class=\"dataframe\">\n",
       "  <thead>\n",
       "    <tr>\n",
       "      <th></th>\n",
       "      <th colspan=\"5\" halign=\"left\">AGG</th>\n",
       "      <th colspan=\"5\" halign=\"left\">SPY</th>\n",
       "    </tr>\n",
       "    <tr>\n",
       "      <th></th>\n",
       "      <th>open</th>\n",
       "      <th>high</th>\n",
       "      <th>low</th>\n",
       "      <th>close</th>\n",
       "      <th>volume</th>\n",
       "      <th>open</th>\n",
       "      <th>high</th>\n",
       "      <th>low</th>\n",
       "      <th>close</th>\n",
       "      <th>volume</th>\n",
       "    </tr>\n",
       "    <tr>\n",
       "      <th>time</th>\n",
       "      <th></th>\n",
       "      <th></th>\n",
       "      <th></th>\n",
       "      <th></th>\n",
       "      <th></th>\n",
       "      <th></th>\n",
       "      <th></th>\n",
       "      <th></th>\n",
       "      <th></th>\n",
       "      <th></th>\n",
       "    </tr>\n",
       "  </thead>\n",
       "  <tbody>\n",
       "    <tr>\n",
       "      <th>2017-06-29 00:00:00-04:00</th>\n",
       "      <td>109.53</td>\n",
       "      <td>109.6800</td>\n",
       "      <td>109.465</td>\n",
       "      <td>109.64</td>\n",
       "      <td>2457876</td>\n",
       "      <td>243.66</td>\n",
       "      <td>243.72</td>\n",
       "      <td>239.955</td>\n",
       "      <td>241.39</td>\n",
       "      <td>87799860</td>\n",
       "    </tr>\n",
       "    <tr>\n",
       "      <th>2017-06-30 00:00:00-04:00</th>\n",
       "      <td>109.62</td>\n",
       "      <td>109.6273</td>\n",
       "      <td>109.460</td>\n",
       "      <td>109.49</td>\n",
       "      <td>2201175</td>\n",
       "      <td>242.26</td>\n",
       "      <td>242.71</td>\n",
       "      <td>241.575</td>\n",
       "      <td>241.77</td>\n",
       "      <td>50347309</td>\n",
       "    </tr>\n",
       "    <tr>\n",
       "      <th>2017-07-03 00:00:00-04:00</th>\n",
       "      <td>109.30</td>\n",
       "      <td>109.3000</td>\n",
       "      <td>109.010</td>\n",
       "      <td>109.08</td>\n",
       "      <td>1681516</td>\n",
       "      <td>242.91</td>\n",
       "      <td>243.38</td>\n",
       "      <td>242.290</td>\n",
       "      <td>242.32</td>\n",
       "      <td>27234078</td>\n",
       "    </tr>\n",
       "    <tr>\n",
       "      <th>2017-07-05 00:00:00-04:00</th>\n",
       "      <td>109.08</td>\n",
       "      <td>109.1800</td>\n",
       "      <td>109.000</td>\n",
       "      <td>109.15</td>\n",
       "      <td>2694196</td>\n",
       "      <td>242.62</td>\n",
       "      <td>243.01</td>\n",
       "      <td>241.700</td>\n",
       "      <td>242.77</td>\n",
       "      <td>41067682</td>\n",
       "    </tr>\n",
       "    <tr>\n",
       "      <th>2017-07-06 00:00:00-04:00</th>\n",
       "      <td>108.95</td>\n",
       "      <td>109.0000</td>\n",
       "      <td>108.820</td>\n",
       "      <td>108.95</td>\n",
       "      <td>2057393</td>\n",
       "      <td>241.88</td>\n",
       "      <td>242.03</td>\n",
       "      <td>240.340</td>\n",
       "      <td>240.58</td>\n",
       "      <td>52390161</td>\n",
       "    </tr>\n",
       "  </tbody>\n",
       "</table>\n",
       "</div>"
      ],
      "text/plain": [
       "                              AGG                                         SPY  \\\n",
       "                             open      high      low   close   volume    open   \n",
       "time                                                                            \n",
       "2017-06-29 00:00:00-04:00  109.53  109.6800  109.465  109.64  2457876  243.66   \n",
       "2017-06-30 00:00:00-04:00  109.62  109.6273  109.460  109.49  2201175  242.26   \n",
       "2017-07-03 00:00:00-04:00  109.30  109.3000  109.010  109.08  1681516  242.91   \n",
       "2017-07-05 00:00:00-04:00  109.08  109.1800  109.000  109.15  2694196  242.62   \n",
       "2017-07-06 00:00:00-04:00  108.95  109.0000  108.820  108.95  2057393  241.88   \n",
       "\n",
       "                                                              \n",
       "                             high      low   close    volume  \n",
       "time                                                          \n",
       "2017-06-29 00:00:00-04:00  243.72  239.955  241.39  87799860  \n",
       "2017-06-30 00:00:00-04:00  242.71  241.575  241.77  50347309  \n",
       "2017-07-03 00:00:00-04:00  243.38  242.290  242.32  27234078  \n",
       "2017-07-05 00:00:00-04:00  243.01  241.700  242.77  41067682  \n",
       "2017-07-06 00:00:00-04:00  242.03  240.340  240.58  52390161  "
      ]
     },
     "execution_count": 45,
     "metadata": {},
     "output_type": "execute_result"
    }
   ],
   "source": [
    "# Set the tickers\n",
    "tickers = [\"AGG\", \"SPY\"]\n",
    "\n",
    "# Get 5 years' worth of historical data for SPY and AGG\n",
    "portfolio_download = alpaca.get_barset(\n",
    "    tickers,\n",
    "    timeframe,\n",
    "    start = start_date,\n",
    "    end = end_date,\n",
    "    limit = 1000\n",
    ").df\n",
    "\n",
    "# Display sample data\n",
    "portfolio_download.head()"
   ]
  },
  {
   "cell_type": "code",
   "execution_count": 46,
   "metadata": {},
   "outputs": [],
   "source": [
    "# Configuring a Monte Carlo simulation to forecast 30 years cumulative returns\n",
    "\n",
    "# Use the Alpaca API to fetch five years historical closing prices for a traditional `40/60` portfolio using the `SPY` and `AGG` tickers to represent \n",
    "# the `60%` stocks (`SPY`) and `40%` bonds (`AGG`) composition of the portfolio\n",
    "\n",
    "monte_30yr = MCSimulation(\n",
    "    portfolio_data = portfolio_download, \n",
    "    weights = [.60,.40], \n",
    "    num_simulation = 500, \n",
    "    num_trading_days = 252*30\n",
    ")"
   ]
  },
  {
   "cell_type": "code",
   "execution_count": 47,
   "metadata": {},
   "outputs": [
    {
     "name": "stdout",
     "output_type": "stream",
     "text": [
      "7560\n"
     ]
    }
   ],
   "source": [
    "print(252*30)"
   ]
  },
  {
   "cell_type": "code",
   "execution_count": 48,
   "metadata": {},
   "outputs": [
    {
     "data": {
      "text/html": [
       "<div>\n",
       "<style scoped>\n",
       "    .dataframe tbody tr th:only-of-type {\n",
       "        vertical-align: middle;\n",
       "    }\n",
       "\n",
       "    .dataframe tbody tr th {\n",
       "        vertical-align: top;\n",
       "    }\n",
       "\n",
       "    .dataframe thead tr th {\n",
       "        text-align: left;\n",
       "    }\n",
       "\n",
       "    .dataframe thead tr:last-of-type th {\n",
       "        text-align: right;\n",
       "    }\n",
       "</style>\n",
       "<table border=\"1\" class=\"dataframe\">\n",
       "  <thead>\n",
       "    <tr>\n",
       "      <th></th>\n",
       "      <th colspan=\"6\" halign=\"left\">AGG</th>\n",
       "      <th colspan=\"6\" halign=\"left\">SPY</th>\n",
       "    </tr>\n",
       "    <tr>\n",
       "      <th></th>\n",
       "      <th>open</th>\n",
       "      <th>high</th>\n",
       "      <th>low</th>\n",
       "      <th>close</th>\n",
       "      <th>volume</th>\n",
       "      <th>daily_return</th>\n",
       "      <th>open</th>\n",
       "      <th>high</th>\n",
       "      <th>low</th>\n",
       "      <th>close</th>\n",
       "      <th>volume</th>\n",
       "      <th>daily_return</th>\n",
       "    </tr>\n",
       "    <tr>\n",
       "      <th>time</th>\n",
       "      <th></th>\n",
       "      <th></th>\n",
       "      <th></th>\n",
       "      <th></th>\n",
       "      <th></th>\n",
       "      <th></th>\n",
       "      <th></th>\n",
       "      <th></th>\n",
       "      <th></th>\n",
       "      <th></th>\n",
       "      <th></th>\n",
       "      <th></th>\n",
       "    </tr>\n",
       "  </thead>\n",
       "  <tbody>\n",
       "    <tr>\n",
       "      <th>2017-06-29 00:00:00-04:00</th>\n",
       "      <td>109.53</td>\n",
       "      <td>109.6800</td>\n",
       "      <td>109.465</td>\n",
       "      <td>109.64</td>\n",
       "      <td>2457876</td>\n",
       "      <td>NaN</td>\n",
       "      <td>243.66</td>\n",
       "      <td>243.72</td>\n",
       "      <td>239.955</td>\n",
       "      <td>241.39</td>\n",
       "      <td>87799860</td>\n",
       "      <td>NaN</td>\n",
       "    </tr>\n",
       "    <tr>\n",
       "      <th>2017-06-30 00:00:00-04:00</th>\n",
       "      <td>109.62</td>\n",
       "      <td>109.6273</td>\n",
       "      <td>109.460</td>\n",
       "      <td>109.49</td>\n",
       "      <td>2201175</td>\n",
       "      <td>-0.001368</td>\n",
       "      <td>242.26</td>\n",
       "      <td>242.71</td>\n",
       "      <td>241.575</td>\n",
       "      <td>241.77</td>\n",
       "      <td>50347309</td>\n",
       "      <td>0.001574</td>\n",
       "    </tr>\n",
       "    <tr>\n",
       "      <th>2017-07-03 00:00:00-04:00</th>\n",
       "      <td>109.30</td>\n",
       "      <td>109.3000</td>\n",
       "      <td>109.010</td>\n",
       "      <td>109.08</td>\n",
       "      <td>1681516</td>\n",
       "      <td>-0.003745</td>\n",
       "      <td>242.91</td>\n",
       "      <td>243.38</td>\n",
       "      <td>242.290</td>\n",
       "      <td>242.32</td>\n",
       "      <td>27234078</td>\n",
       "      <td>0.002275</td>\n",
       "    </tr>\n",
       "    <tr>\n",
       "      <th>2017-07-05 00:00:00-04:00</th>\n",
       "      <td>109.08</td>\n",
       "      <td>109.1800</td>\n",
       "      <td>109.000</td>\n",
       "      <td>109.15</td>\n",
       "      <td>2694196</td>\n",
       "      <td>0.000642</td>\n",
       "      <td>242.62</td>\n",
       "      <td>243.01</td>\n",
       "      <td>241.700</td>\n",
       "      <td>242.77</td>\n",
       "      <td>41067682</td>\n",
       "      <td>0.001857</td>\n",
       "    </tr>\n",
       "    <tr>\n",
       "      <th>2017-07-06 00:00:00-04:00</th>\n",
       "      <td>108.95</td>\n",
       "      <td>109.0000</td>\n",
       "      <td>108.820</td>\n",
       "      <td>108.95</td>\n",
       "      <td>2057393</td>\n",
       "      <td>-0.001832</td>\n",
       "      <td>241.88</td>\n",
       "      <td>242.03</td>\n",
       "      <td>240.340</td>\n",
       "      <td>240.58</td>\n",
       "      <td>52390161</td>\n",
       "      <td>-0.009021</td>\n",
       "    </tr>\n",
       "  </tbody>\n",
       "</table>\n",
       "</div>"
      ],
      "text/plain": [
       "                              AGG                                      \\\n",
       "                             open      high      low   close   volume   \n",
       "time                                                                    \n",
       "2017-06-29 00:00:00-04:00  109.53  109.6800  109.465  109.64  2457876   \n",
       "2017-06-30 00:00:00-04:00  109.62  109.6273  109.460  109.49  2201175   \n",
       "2017-07-03 00:00:00-04:00  109.30  109.3000  109.010  109.08  1681516   \n",
       "2017-07-05 00:00:00-04:00  109.08  109.1800  109.000  109.15  2694196   \n",
       "2017-07-06 00:00:00-04:00  108.95  109.0000  108.820  108.95  2057393   \n",
       "\n",
       "                                           SPY                           \\\n",
       "                          daily_return    open    high      low   close   \n",
       "time                                                                      \n",
       "2017-06-29 00:00:00-04:00          NaN  243.66  243.72  239.955  241.39   \n",
       "2017-06-30 00:00:00-04:00    -0.001368  242.26  242.71  241.575  241.77   \n",
       "2017-07-03 00:00:00-04:00    -0.003745  242.91  243.38  242.290  242.32   \n",
       "2017-07-05 00:00:00-04:00     0.000642  242.62  243.01  241.700  242.77   \n",
       "2017-07-06 00:00:00-04:00    -0.001832  241.88  242.03  240.340  240.58   \n",
       "\n",
       "                                                  \n",
       "                             volume daily_return  \n",
       "time                                              \n",
       "2017-06-29 00:00:00-04:00  87799860          NaN  \n",
       "2017-06-30 00:00:00-04:00  50347309     0.001574  \n",
       "2017-07-03 00:00:00-04:00  27234078     0.002275  \n",
       "2017-07-05 00:00:00-04:00  41067682     0.001857  \n",
       "2017-07-06 00:00:00-04:00  52390161    -0.009021  "
      ]
     },
     "execution_count": 48,
     "metadata": {},
     "output_type": "execute_result"
    }
   ],
   "source": [
    "# Printing the simulation input data\n",
    "monte_30yr.portfolio_data.head()"
   ]
  },
  {
   "cell_type": "code",
   "execution_count": 49,
   "metadata": {},
   "outputs": [
    {
     "name": "stdout",
     "output_type": "stream",
     "text": [
      "Running Monte Carlo simulation number 0.\n",
      "Running Monte Carlo simulation number 10.\n",
      "Running Monte Carlo simulation number 20.\n",
      "Running Monte Carlo simulation number 30.\n",
      "Running Monte Carlo simulation number 40.\n",
      "Running Monte Carlo simulation number 50.\n",
      "Running Monte Carlo simulation number 60.\n",
      "Running Monte Carlo simulation number 70.\n",
      "Running Monte Carlo simulation number 80.\n",
      "Running Monte Carlo simulation number 90.\n",
      "Running Monte Carlo simulation number 100.\n",
      "Running Monte Carlo simulation number 110.\n",
      "Running Monte Carlo simulation number 120.\n",
      "Running Monte Carlo simulation number 130.\n",
      "Running Monte Carlo simulation number 140.\n",
      "Running Monte Carlo simulation number 150.\n",
      "Running Monte Carlo simulation number 160.\n",
      "Running Monte Carlo simulation number 170.\n",
      "Running Monte Carlo simulation number 180.\n",
      "Running Monte Carlo simulation number 190.\n",
      "Running Monte Carlo simulation number 200.\n",
      "Running Monte Carlo simulation number 210.\n",
      "Running Monte Carlo simulation number 220.\n",
      "Running Monte Carlo simulation number 230.\n",
      "Running Monte Carlo simulation number 240.\n",
      "Running Monte Carlo simulation number 250.\n",
      "Running Monte Carlo simulation number 260.\n",
      "Running Monte Carlo simulation number 270.\n",
      "Running Monte Carlo simulation number 280.\n",
      "Running Monte Carlo simulation number 290.\n",
      "Running Monte Carlo simulation number 300.\n",
      "Running Monte Carlo simulation number 310.\n",
      "Running Monte Carlo simulation number 320.\n",
      "Running Monte Carlo simulation number 330.\n",
      "Running Monte Carlo simulation number 340.\n",
      "Running Monte Carlo simulation number 350.\n",
      "Running Monte Carlo simulation number 360.\n",
      "Running Monte Carlo simulation number 370.\n",
      "Running Monte Carlo simulation number 380.\n",
      "Running Monte Carlo simulation number 390.\n",
      "Running Monte Carlo simulation number 400.\n",
      "Running Monte Carlo simulation number 410.\n",
      "Running Monte Carlo simulation number 420.\n",
      "Running Monte Carlo simulation number 430.\n",
      "Running Monte Carlo simulation number 440.\n",
      "Running Monte Carlo simulation number 450.\n",
      "Running Monte Carlo simulation number 460.\n",
      "Running Monte Carlo simulation number 470.\n",
      "Running Monte Carlo simulation number 480.\n",
      "Running Monte Carlo simulation number 490.\n"
     ]
    },
    {
     "data": {
      "text/html": [
       "<div>\n",
       "<style scoped>\n",
       "    .dataframe tbody tr th:only-of-type {\n",
       "        vertical-align: middle;\n",
       "    }\n",
       "\n",
       "    .dataframe tbody tr th {\n",
       "        vertical-align: top;\n",
       "    }\n",
       "\n",
       "    .dataframe thead th {\n",
       "        text-align: right;\n",
       "    }\n",
       "</style>\n",
       "<table border=\"1\" class=\"dataframe\">\n",
       "  <thead>\n",
       "    <tr style=\"text-align: right;\">\n",
       "      <th></th>\n",
       "      <th>0</th>\n",
       "      <th>1</th>\n",
       "      <th>2</th>\n",
       "      <th>3</th>\n",
       "      <th>4</th>\n",
       "      <th>5</th>\n",
       "      <th>6</th>\n",
       "      <th>7</th>\n",
       "      <th>8</th>\n",
       "      <th>9</th>\n",
       "      <th>...</th>\n",
       "      <th>490</th>\n",
       "      <th>491</th>\n",
       "      <th>492</th>\n",
       "      <th>493</th>\n",
       "      <th>494</th>\n",
       "      <th>495</th>\n",
       "      <th>496</th>\n",
       "      <th>497</th>\n",
       "      <th>498</th>\n",
       "      <th>499</th>\n",
       "    </tr>\n",
       "  </thead>\n",
       "  <tbody>\n",
       "    <tr>\n",
       "      <th>0</th>\n",
       "      <td>1.000000</td>\n",
       "      <td>1.000000</td>\n",
       "      <td>1.000000</td>\n",
       "      <td>1.000000</td>\n",
       "      <td>1.000000</td>\n",
       "      <td>1.000000</td>\n",
       "      <td>1.000000</td>\n",
       "      <td>1.000000</td>\n",
       "      <td>1.000000</td>\n",
       "      <td>1.000000</td>\n",
       "      <td>...</td>\n",
       "      <td>1.000000</td>\n",
       "      <td>1.000000</td>\n",
       "      <td>1.000000</td>\n",
       "      <td>1.000000</td>\n",
       "      <td>1.000000</td>\n",
       "      <td>1.000000</td>\n",
       "      <td>1.000000</td>\n",
       "      <td>1.000000</td>\n",
       "      <td>1.000000</td>\n",
       "      <td>1.000000</td>\n",
       "    </tr>\n",
       "    <tr>\n",
       "      <th>1</th>\n",
       "      <td>1.002760</td>\n",
       "      <td>1.002643</td>\n",
       "      <td>0.997878</td>\n",
       "      <td>0.996729</td>\n",
       "      <td>1.006972</td>\n",
       "      <td>1.001242</td>\n",
       "      <td>1.002186</td>\n",
       "      <td>1.002428</td>\n",
       "      <td>0.999343</td>\n",
       "      <td>1.009282</td>\n",
       "      <td>...</td>\n",
       "      <td>1.005215</td>\n",
       "      <td>1.004311</td>\n",
       "      <td>1.000771</td>\n",
       "      <td>0.997162</td>\n",
       "      <td>0.992614</td>\n",
       "      <td>0.997234</td>\n",
       "      <td>0.999680</td>\n",
       "      <td>0.998844</td>\n",
       "      <td>1.001103</td>\n",
       "      <td>0.992996</td>\n",
       "    </tr>\n",
       "    <tr>\n",
       "      <th>2</th>\n",
       "      <td>1.013411</td>\n",
       "      <td>0.999424</td>\n",
       "      <td>0.998946</td>\n",
       "      <td>0.998555</td>\n",
       "      <td>1.011914</td>\n",
       "      <td>1.004480</td>\n",
       "      <td>0.994047</td>\n",
       "      <td>1.003898</td>\n",
       "      <td>1.007315</td>\n",
       "      <td>1.011736</td>\n",
       "      <td>...</td>\n",
       "      <td>1.009323</td>\n",
       "      <td>1.001348</td>\n",
       "      <td>1.002826</td>\n",
       "      <td>1.003534</td>\n",
       "      <td>1.005398</td>\n",
       "      <td>0.993577</td>\n",
       "      <td>0.994669</td>\n",
       "      <td>0.998051</td>\n",
       "      <td>1.010578</td>\n",
       "      <td>0.999989</td>\n",
       "    </tr>\n",
       "    <tr>\n",
       "      <th>3</th>\n",
       "      <td>1.011379</td>\n",
       "      <td>0.996607</td>\n",
       "      <td>0.999441</td>\n",
       "      <td>0.998148</td>\n",
       "      <td>1.015191</td>\n",
       "      <td>1.005439</td>\n",
       "      <td>1.000956</td>\n",
       "      <td>1.003617</td>\n",
       "      <td>1.000191</td>\n",
       "      <td>1.009902</td>\n",
       "      <td>...</td>\n",
       "      <td>1.007751</td>\n",
       "      <td>1.000008</td>\n",
       "      <td>1.009980</td>\n",
       "      <td>1.011619</td>\n",
       "      <td>1.013777</td>\n",
       "      <td>0.979686</td>\n",
       "      <td>0.992496</td>\n",
       "      <td>1.008221</td>\n",
       "      <td>1.021549</td>\n",
       "      <td>0.999524</td>\n",
       "    </tr>\n",
       "    <tr>\n",
       "      <th>4</th>\n",
       "      <td>1.005695</td>\n",
       "      <td>1.000037</td>\n",
       "      <td>1.001302</td>\n",
       "      <td>0.996102</td>\n",
       "      <td>1.012470</td>\n",
       "      <td>1.010236</td>\n",
       "      <td>0.996866</td>\n",
       "      <td>0.994698</td>\n",
       "      <td>1.005635</td>\n",
       "      <td>1.011965</td>\n",
       "      <td>...</td>\n",
       "      <td>1.006575</td>\n",
       "      <td>0.993417</td>\n",
       "      <td>1.018763</td>\n",
       "      <td>1.014516</td>\n",
       "      <td>1.004586</td>\n",
       "      <td>0.974683</td>\n",
       "      <td>0.985102</td>\n",
       "      <td>1.014438</td>\n",
       "      <td>1.010588</td>\n",
       "      <td>1.002209</td>\n",
       "    </tr>\n",
       "    <tr>\n",
       "      <th>...</th>\n",
       "      <td>...</td>\n",
       "      <td>...</td>\n",
       "      <td>...</td>\n",
       "      <td>...</td>\n",
       "      <td>...</td>\n",
       "      <td>...</td>\n",
       "      <td>...</td>\n",
       "      <td>...</td>\n",
       "      <td>...</td>\n",
       "      <td>...</td>\n",
       "      <td>...</td>\n",
       "      <td>...</td>\n",
       "      <td>...</td>\n",
       "      <td>...</td>\n",
       "      <td>...</td>\n",
       "      <td>...</td>\n",
       "      <td>...</td>\n",
       "      <td>...</td>\n",
       "      <td>...</td>\n",
       "      <td>...</td>\n",
       "      <td>...</td>\n",
       "    </tr>\n",
       "    <tr>\n",
       "      <th>7556</th>\n",
       "      <td>8.636070</td>\n",
       "      <td>5.352800</td>\n",
       "      <td>4.627342</td>\n",
       "      <td>9.102749</td>\n",
       "      <td>13.501228</td>\n",
       "      <td>6.292669</td>\n",
       "      <td>6.581723</td>\n",
       "      <td>5.369012</td>\n",
       "      <td>7.346389</td>\n",
       "      <td>26.623595</td>\n",
       "      <td>...</td>\n",
       "      <td>8.321907</td>\n",
       "      <td>11.369751</td>\n",
       "      <td>27.220984</td>\n",
       "      <td>6.126044</td>\n",
       "      <td>9.520181</td>\n",
       "      <td>4.132655</td>\n",
       "      <td>9.810893</td>\n",
       "      <td>22.412271</td>\n",
       "      <td>11.150081</td>\n",
       "      <td>2.883638</td>\n",
       "    </tr>\n",
       "    <tr>\n",
       "      <th>7557</th>\n",
       "      <td>8.715053</td>\n",
       "      <td>5.356740</td>\n",
       "      <td>4.615525</td>\n",
       "      <td>9.146906</td>\n",
       "      <td>13.460408</td>\n",
       "      <td>6.320830</td>\n",
       "      <td>6.556894</td>\n",
       "      <td>5.375899</td>\n",
       "      <td>7.330097</td>\n",
       "      <td>26.685560</td>\n",
       "      <td>...</td>\n",
       "      <td>8.403510</td>\n",
       "      <td>11.352313</td>\n",
       "      <td>27.364231</td>\n",
       "      <td>6.105029</td>\n",
       "      <td>9.493548</td>\n",
       "      <td>4.158003</td>\n",
       "      <td>9.905249</td>\n",
       "      <td>22.456191</td>\n",
       "      <td>11.159705</td>\n",
       "      <td>2.896898</td>\n",
       "    </tr>\n",
       "    <tr>\n",
       "      <th>7558</th>\n",
       "      <td>8.666755</td>\n",
       "      <td>5.361960</td>\n",
       "      <td>4.656096</td>\n",
       "      <td>9.098738</td>\n",
       "      <td>13.545901</td>\n",
       "      <td>6.324485</td>\n",
       "      <td>6.597609</td>\n",
       "      <td>5.440374</td>\n",
       "      <td>7.333978</td>\n",
       "      <td>26.689228</td>\n",
       "      <td>...</td>\n",
       "      <td>8.377349</td>\n",
       "      <td>11.464521</td>\n",
       "      <td>27.413875</td>\n",
       "      <td>6.055923</td>\n",
       "      <td>9.444965</td>\n",
       "      <td>4.132319</td>\n",
       "      <td>9.920175</td>\n",
       "      <td>22.486941</td>\n",
       "      <td>11.119951</td>\n",
       "      <td>2.896763</td>\n",
       "    </tr>\n",
       "    <tr>\n",
       "      <th>7559</th>\n",
       "      <td>8.716401</td>\n",
       "      <td>5.361304</td>\n",
       "      <td>4.622510</td>\n",
       "      <td>9.050153</td>\n",
       "      <td>13.453789</td>\n",
       "      <td>6.456847</td>\n",
       "      <td>6.593480</td>\n",
       "      <td>5.457796</td>\n",
       "      <td>7.352221</td>\n",
       "      <td>26.754467</td>\n",
       "      <td>...</td>\n",
       "      <td>8.283938</td>\n",
       "      <td>11.492841</td>\n",
       "      <td>27.385528</td>\n",
       "      <td>6.062397</td>\n",
       "      <td>9.471981</td>\n",
       "      <td>4.150742</td>\n",
       "      <td>9.945527</td>\n",
       "      <td>22.741430</td>\n",
       "      <td>11.132039</td>\n",
       "      <td>2.890689</td>\n",
       "    </tr>\n",
       "    <tr>\n",
       "      <th>7560</th>\n",
       "      <td>8.720218</td>\n",
       "      <td>5.367274</td>\n",
       "      <td>4.611586</td>\n",
       "      <td>9.018612</td>\n",
       "      <td>13.394460</td>\n",
       "      <td>6.403200</td>\n",
       "      <td>6.640662</td>\n",
       "      <td>5.421922</td>\n",
       "      <td>7.323364</td>\n",
       "      <td>26.477878</td>\n",
       "      <td>...</td>\n",
       "      <td>8.249271</td>\n",
       "      <td>11.524073</td>\n",
       "      <td>27.519405</td>\n",
       "      <td>6.082594</td>\n",
       "      <td>9.475239</td>\n",
       "      <td>4.119983</td>\n",
       "      <td>9.991062</td>\n",
       "      <td>22.893189</td>\n",
       "      <td>11.066096</td>\n",
       "      <td>2.878819</td>\n",
       "    </tr>\n",
       "  </tbody>\n",
       "</table>\n",
       "<p>7561 rows × 500 columns</p>\n",
       "</div>"
      ],
      "text/plain": [
       "           0         1         2         3          4         5         6    \\\n",
       "0     1.000000  1.000000  1.000000  1.000000   1.000000  1.000000  1.000000   \n",
       "1     1.002760  1.002643  0.997878  0.996729   1.006972  1.001242  1.002186   \n",
       "2     1.013411  0.999424  0.998946  0.998555   1.011914  1.004480  0.994047   \n",
       "3     1.011379  0.996607  0.999441  0.998148   1.015191  1.005439  1.000956   \n",
       "4     1.005695  1.000037  1.001302  0.996102   1.012470  1.010236  0.996866   \n",
       "...        ...       ...       ...       ...        ...       ...       ...   \n",
       "7556  8.636070  5.352800  4.627342  9.102749  13.501228  6.292669  6.581723   \n",
       "7557  8.715053  5.356740  4.615525  9.146906  13.460408  6.320830  6.556894   \n",
       "7558  8.666755  5.361960  4.656096  9.098738  13.545901  6.324485  6.597609   \n",
       "7559  8.716401  5.361304  4.622510  9.050153  13.453789  6.456847  6.593480   \n",
       "7560  8.720218  5.367274  4.611586  9.018612  13.394460  6.403200  6.640662   \n",
       "\n",
       "           7         8          9    ...       490        491        492  \\\n",
       "0     1.000000  1.000000   1.000000  ...  1.000000   1.000000   1.000000   \n",
       "1     1.002428  0.999343   1.009282  ...  1.005215   1.004311   1.000771   \n",
       "2     1.003898  1.007315   1.011736  ...  1.009323   1.001348   1.002826   \n",
       "3     1.003617  1.000191   1.009902  ...  1.007751   1.000008   1.009980   \n",
       "4     0.994698  1.005635   1.011965  ...  1.006575   0.993417   1.018763   \n",
       "...        ...       ...        ...  ...       ...        ...        ...   \n",
       "7556  5.369012  7.346389  26.623595  ...  8.321907  11.369751  27.220984   \n",
       "7557  5.375899  7.330097  26.685560  ...  8.403510  11.352313  27.364231   \n",
       "7558  5.440374  7.333978  26.689228  ...  8.377349  11.464521  27.413875   \n",
       "7559  5.457796  7.352221  26.754467  ...  8.283938  11.492841  27.385528   \n",
       "7560  5.421922  7.323364  26.477878  ...  8.249271  11.524073  27.519405   \n",
       "\n",
       "           493       494       495       496        497        498       499  \n",
       "0     1.000000  1.000000  1.000000  1.000000   1.000000   1.000000  1.000000  \n",
       "1     0.997162  0.992614  0.997234  0.999680   0.998844   1.001103  0.992996  \n",
       "2     1.003534  1.005398  0.993577  0.994669   0.998051   1.010578  0.999989  \n",
       "3     1.011619  1.013777  0.979686  0.992496   1.008221   1.021549  0.999524  \n",
       "4     1.014516  1.004586  0.974683  0.985102   1.014438   1.010588  1.002209  \n",
       "...        ...       ...       ...       ...        ...        ...       ...  \n",
       "7556  6.126044  9.520181  4.132655  9.810893  22.412271  11.150081  2.883638  \n",
       "7557  6.105029  9.493548  4.158003  9.905249  22.456191  11.159705  2.896898  \n",
       "7558  6.055923  9.444965  4.132319  9.920175  22.486941  11.119951  2.896763  \n",
       "7559  6.062397  9.471981  4.150742  9.945527  22.741430  11.132039  2.890689  \n",
       "7560  6.082594  9.475239  4.119983  9.991062  22.893189  11.066096  2.878819  \n",
       "\n",
       "[7561 rows x 500 columns]"
      ]
     },
     "execution_count": 49,
     "metadata": {},
     "output_type": "execute_result"
    }
   ],
   "source": [
    "# Running a Monte Carlo simulation to forecast 30 years cumulative returns\n",
    "monte_30yr.calc_cumulative_return()"
   ]
  },
  {
   "cell_type": "code",
   "execution_count": 50,
   "metadata": {},
   "outputs": [
    {
     "data": {
      "text/plain": [
       "<AxesSubplot:title={'center':'500 Simulations of Cumulative Portfolio Return Trajectories Over the Next 7560 Trading Days.'}>"
      ]
     },
     "execution_count": 50,
     "metadata": {},
     "output_type": "execute_result"
    },
    {
     "data": {
      "image/png": "[encoded data removed]",
      "text/plain": [
       "<Figure size 432x288 with 1 Axes>"
      ]
     },
     "metadata": {
      "needs_background": "light"
     },
     "output_type": "display_data"
    }
   ],
   "source": [
    "# Plot simulation outcomes\n",
    "monte_30yr.plot_simulation()"
   ]
  },
  {
   "cell_type": "code",
   "execution_count": 51,
   "metadata": {},
   "outputs": [
    {
     "data": {
      "text/plain": [
       "<AxesSubplot:title={'center':'Distribution of Final Cumuluative Returns Across All 500 Simulations'}, ylabel='Frequency'>"
      ]
     },
     "execution_count": 51,
     "metadata": {},
     "output_type": "execute_result"
    },
    {
     "data": {
      "image/png": "[encoded data removed]",
      "text/plain": [
       "<Figure size 432x288 with 1 Axes>"
      ]
     },
     "metadata": {
      "needs_background": "light"
     },
     "output_type": "display_data"
    }
   ],
   "source": [
    "# Plot probability distribution and confidence intervals\n",
    "monte_30yr.plot_distribution()"
   ]
  },
  {
   "cell_type": "markdown",
   "metadata": {},
   "source": [
    "### Retirement Analysis"
   ]
  },
  {
   "cell_type": "code",
   "execution_count": 52,
   "metadata": {},
   "outputs": [
    {
     "name": "stdout",
     "output_type": "stream",
     "text": [
      "count           500.000000\n",
      "mean              8.626085\n",
      "std               4.309308\n",
      "min               1.213274\n",
      "25%               5.652277\n",
      "50%               7.559822\n",
      "75%              10.782681\n",
      "max              27.989245\n",
      "95% CI Lower      2.843724\n",
      "95% CI Upper     19.378634\n",
      "Name: 7560, dtype: float64\n"
     ]
    }
   ],
   "source": [
    "# Fetch summary statistics from the Monte Carlo simulation results\n",
    "MC_stats = monte_30yr.summarize_cumulative_return()\n",
    "\n",
    "# Print summary statistics\n",
    "print (MC_stats)"
   ]
  },
  {
   "cell_type": "markdown",
   "metadata": {},
   "source": [
    "### Calculate the expected portfolio return at the `95%` lower and upper confidence intervals based on a `$20,000` initial investment."
   ]
  },
  {
   "cell_type": "code",
   "execution_count": 53,
   "metadata": {},
   "outputs": [
    {
     "name": "stdout",
     "output_type": "stream",
     "text": [
      "There is a 95% chance that an initial investment of $20000 in the portfolio over the next 30 years will end within in the range of $56874.4756656158 and $387572.6768127879\n"
     ]
    }
   ],
   "source": [
    "# Set initial investment\n",
    "initial_investment = 20000\n",
    "\n",
    "# Use the lower and upper `95%` confidence intervals to calculate the range of the possible outcomes of our $20,000\n",
    "ci_lower = MC_stats[8]*initial_investment\n",
    "ci_upper = MC_stats[9]*initial_investment\n",
    "\n",
    "# Print results\n",
    "print(f\"There is a 95% chance that an initial investment of ${initial_investment} in the portfolio\"\n",
    "      f\" over the next 30 years will end within in the range of\"\n",
    "      f\" ${ci_lower} and ${ci_upper}\")"
   ]
  },
  {
   "cell_type": "markdown",
   "metadata": {},
   "source": [
    "### Calculate the expected portfolio return at the `95%` lower and upper confidence intervals based on a `50%` increase in the initial investment."
   ]
  },
  {
   "cell_type": "code",
   "execution_count": 54,
   "metadata": {},
   "outputs": [
    {
     "name": "stdout",
     "output_type": "stream",
     "text": [
      "There is a 95% chance that an initial investment of $30000.0 in the portfolio over the next 30 years will end within in the range of $85311.71349842369 and $581359.0152191819\n"
     ]
    }
   ],
   "source": [
    "# Set initial investment\n",
    "initial_investment = 20000 * 1.5\n",
    "\n",
    "# Use the lower and upper `95%` confidence intervals to calculate the range of the possible outcomes of our $30,000\n",
    "ci_lower = MC_stats[8]*initial_investment\n",
    "ci_upper = MC_stats[9]*initial_investment\n",
    "\n",
    "# Print results\n",
    "print(f\"There is a 95% chance that an initial investment of ${initial_investment} in the portfolio\"\n",
    "      f\" over the next 30 years will end within in the range of\"\n",
    "      f\" ${ci_lower} and ${ci_upper}\")"
   ]
  },
  {
   "cell_type": "markdown",
   "metadata": {},
   "source": [
    "## Optional Challenge - Early Retirement\n",
    "\n",
    "\n",
    "### Five Years Retirement Option"
   ]
  },
  {
   "cell_type": "code",
   "execution_count": 55,
   "metadata": {},
   "outputs": [],
   "source": [
    "# Configuring a Monte Carlo simulation to forecast 5 years cumulative returns\n",
    "# YOUR CODE HERE!"
   ]
  },
  {
   "cell_type": "code",
   "execution_count": 56,
   "metadata": {},
   "outputs": [],
   "source": [
    "# Running a Monte Carlo simulation to forecast 5 years cumulative returns\n",
    "# YOUR CODE HERE!"
   ]
  },
  {
   "cell_type": "code",
   "execution_count": 57,
   "metadata": {},
   "outputs": [],
   "source": [
    "# Plot simulation outcomes\n",
    "# YOUR CODE HERE!"
   ]
  },
  {
   "cell_type": "code",
   "execution_count": 58,
   "metadata": {},
   "outputs": [],
   "source": [
    "# Plot probability distribution and confidence intervals\n",
    "# YOUR CODE HERE!"
   ]
  },
  {
   "cell_type": "code",
   "execution_count": 59,
   "metadata": {},
   "outputs": [
    {
     "ename": "NameError",
     "evalue": "name 'MC_dist_5yrs' is not defined",
     "output_type": "error",
     "traceback": [
      "\u001b[1;31m---------------------------------------------------------------------------\u001b[0m",
      "\u001b[1;31mNameError\u001b[0m                                 Traceback (most recent call last)",
      "\u001b[1;32m<ipython-input-59-1f05b0d2989e>\u001b[0m in \u001b[0;36m<module>\u001b[1;34m\u001b[0m\n\u001b[0;32m      1\u001b[0m \u001b[1;31m# Fetch summary statistics from the Monte Carlo simulation results\u001b[0m\u001b[1;33m\u001b[0m\u001b[1;33m\u001b[0m\u001b[1;33m\u001b[0m\u001b[0m\n\u001b[1;32m----> 2\u001b[1;33m \u001b[0mMC_tbl_5yrs\u001b[0m \u001b[1;33m=\u001b[0m \u001b[0mMC_dist_5yrs\u001b[0m\u001b[1;33m.\u001b[0m\u001b[0msummarize_cumulative_return\u001b[0m\u001b[1;33m(\u001b[0m\u001b[1;33m)\u001b[0m\u001b[1;33m\u001b[0m\u001b[1;33m\u001b[0m\u001b[0m\n\u001b[0m\u001b[0;32m      3\u001b[0m \u001b[1;33m\u001b[0m\u001b[0m\n\u001b[0;32m      4\u001b[0m \u001b[1;31m# Print summary statistics\u001b[0m\u001b[1;33m\u001b[0m\u001b[1;33m\u001b[0m\u001b[1;33m\u001b[0m\u001b[0m\n\u001b[0;32m      5\u001b[0m \u001b[1;31m# YOUR CODE HERE!\u001b[0m\u001b[1;33m\u001b[0m\u001b[1;33m\u001b[0m\u001b[1;33m\u001b[0m\u001b[0m\n",
      "\u001b[1;31mNameError\u001b[0m: name 'MC_dist_5yrs' is not defined"
     ]
    }
   ],
   "source": [
    "# Fetch summary statistics from the Monte Carlo simulation results\n",
    "MC_tbl_5yrs = MC_dist_5yrs.summarize_cumulative_return()\n",
    "\n",
    "# Print summary statistics\n",
    "# YOUR CODE HERE!"
   ]
  },
  {
   "cell_type": "code",
   "execution_count": null,
   "metadata": {},
   "outputs": [],
   "source": [
    "# Set initial investment\n",
    "# YOUR CODE HERE!\n",
    "\n",
    "# Use the lower and upper `95%` confidence intervals to calculate the range of the possible outcomes of our $60,000\n",
    "# YOUR CODE HERE!\n",
    "\n",
    "# Print results\n",
    "print(f\"There is a 95% chance that an initial investment of ${initial_investment} in the portfolio\"\n",
    "      f\" over the next 5 years will end within in the range of\"\n",
    "      f\" ${ci_lower_five} and ${ci_upper_five}\")"
   ]
  },
  {
   "cell_type": "markdown",
   "metadata": {},
   "source": [
    "### Ten Years Retirement Option"
   ]
  },
  {
   "cell_type": "code",
   "execution_count": null,
   "metadata": {},
   "outputs": [],
   "source": [
    "# Configuring a Monte Carlo simulation to forecast 10 years cumulative returns\n",
    "# YOUR CODE HERE!"
   ]
  },
  {
   "cell_type": "code",
   "execution_count": null,
   "metadata": {},
   "outputs": [],
   "source": [
    "# Running a Monte Carlo simulation to forecast 10 years cumulative returns\n",
    "# YOUR CODE HERE!"
   ]
  },
  {
   "cell_type": "code",
   "execution_count": null,
   "metadata": {},
   "outputs": [],
   "source": [
    "# Plot simulation outcomes\n",
    "# YOUR CODE HERE!"
   ]
  },
  {
   "cell_type": "code",
   "execution_count": null,
   "metadata": {},
   "outputs": [],
   "source": [
    "# Plot probability distribution and confidence intervals\n",
    "# YOUR CODE HERE!"
   ]
  },
  {
   "cell_type": "code",
   "execution_count": null,
   "metadata": {},
   "outputs": [],
   "source": [
    "# Fetch summary statistics from the Monte Carlo simulation results\n",
    "# YOUR CODE HERE!\n",
    "\n",
    "# Print summary statistics\n",
    "# YOUR CODE HERE!"
   ]
  },
  {
   "cell_type": "code",
   "execution_count": null,
   "metadata": {},
   "outputs": [],
   "source": [
    "# Set initial investment\n",
    "# YOUR CODE HERE!\n",
    "\n",
    "# Use the lower and upper `95%` confidence intervals to calculate the range of the possible outcomes of our $60,000\n",
    "# YOUR CODE HERE!\n",
    "\n",
    "# Print results\n",
    "print(f\"There is a 95% chance that an initial investment of ${initial_investment} in the portfolio\"\n",
    "      f\" over the next 10 years will end within in the range of\"\n",
    "      f\" ${ci_lower_ten} and ${ci_upper_ten}\")"
   ]
  },
  {
   "cell_type": "code",
   "execution_count": null,
   "metadata": {},
   "outputs": [],
   "source": []
  }
 ],
 "metadata": {
  "kernelspec": {
   "display_name": "Python 3",
   "language": "python",
   "name": "python3"
  },
  "language_info": {
   "codemirror_mode": {
    "name": "ipython",
    "version": 3
   },
   "file_extension": ".py",
   "mimetype": "text/x-python",
   "name": "python",
   "nbconvert_exporter": "python",
   "pygments_lexer": "ipython3",
   "version": "3.7.10"
  },
  "nteract": {
   "version": "0.28.0"
  }
 },
 "nbformat": 4,
 "nbformat_minor": 4
}
